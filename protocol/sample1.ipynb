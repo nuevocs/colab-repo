{
  "nbformat": 4,
  "nbformat_minor": 0,
  "metadata": {
    "colab": {
      "provenance": [],
      "authorship_tag": "ABX9TyNxa8O/X8YIgtAO2BTDyFgb",
      "include_colab_link": true
    },
    "kernelspec": {
      "name": "python3",
      "display_name": "Python 3"
    },
    "language_info": {
      "name": "python"
    }
  },
  "cells": [
    {
      "cell_type": "markdown",
      "metadata": {
        "id": "view-in-github",
        "colab_type": "text"
      },
      "source": [
        "<a href=\"https://colab.research.google.com/github/nuevocs/colab-repo/blob/main/protocol/sample1.ipynb\" target=\"_parent\"><img src=\"https://colab.research.google.com/assets/colab-badge.svg\" alt=\"Open In Colab\"/></a>"
      ]
    },
    {
      "cell_type": "code",
      "execution_count": 1,
      "metadata": {
        "id": "JoDKtlOj0Fzr"
      },
      "outputs": [],
      "source": [
        "from typing import Protocol"
      ]
    },
    {
      "cell_type": "code",
      "source": [
        "class Neko(Protocol):\n",
        "    def meoh(self) -> str:\n",
        "        pass"
      ],
      "metadata": {
        "id": "pL5fbRBV0HsV"
      },
      "execution_count": 15,
      "outputs": []
    },
    {
      "cell_type": "code",
      "source": [
        "class Dora:\n",
        "    def __init__(self,\n",
        "                 name:str,\n",
        "                 weight: float,\n",
        "                 age: int):\n",
        "        self.name = name\n",
        "        self.weight = weight\n",
        "        self.age = age\n",
        "    def meoh(self) -> str:\n",
        "        return self.name * self.age\n"
      ],
      "metadata": {
        "id": "m9bkEWZL0QHE"
      },
      "execution_count": 3,
      "outputs": []
    },
    {
      "cell_type": "code",
      "source": [
        "class Kuro:\n",
        "    def __init__(self,\n",
        "                 name:str,\n",
        "                 weight: float,\n",
        "                 age: int):\n",
        "        self.name = name\n",
        "        self.weight = weight\n",
        "        self.age = age\n",
        "    def meoh(self) -> str:\n",
        "        return self.name * self.age\n"
      ],
      "metadata": {
        "id": "5RmC752c0lr0"
      },
      "execution_count": 4,
      "outputs": []
    },
    {
      "cell_type": "code",
      "source": [
        "def cat_meoh_times(cat: Neko):\n",
        "    print(f\"The cat meows {cat.meoh()} times\")"
      ],
      "metadata": {
        "id": "oKRV23zI0nvx"
      },
      "execution_count": 14,
      "outputs": []
    },
    {
      "cell_type": "code",
      "source": [
        "cat_meoh_times(Dora(\"dora\", 2.3, 4))"
      ],
      "metadata": {
        "colab": {
          "base_uri": "https://localhost:8080/"
        },
        "id": "uD9VeuNI1Maq",
        "outputId": "ca57b004-f5cb-44b0-f994-b357f18533fc"
      },
      "execution_count": 10,
      "outputs": [
        {
          "output_type": "stream",
          "name": "stdout",
          "text": [
            "The cat meows doradoradoradora times\n"
          ]
        }
      ]
    },
    {
      "cell_type": "code",
      "source": [
        "d = Dora(\"dora\", 2.4, 4)\n",
        "d.meoh()"
      ],
      "metadata": {
        "colab": {
          "base_uri": "https://localhost:8080/",
          "height": 35
        },
        "id": "pUYdnR9r1TmP",
        "outputId": "ae13be16-0a51-43a4-fad8-14933bc38e1c"
      },
      "execution_count": 12,
      "outputs": [
        {
          "output_type": "execute_result",
          "data": {
            "text/plain": [
              "'doradoradoradora'"
            ],
            "application/vnd.google.colaboratory.intrinsic+json": {
              "type": "string"
            }
          },
          "metadata": {},
          "execution_count": 12
        }
      ]
    },
    {
      "cell_type": "code",
      "source": [
        "from abc import ABC, abstractmethod"
      ],
      "metadata": {
        "id": "fk2Lp2ye2p6K"
      },
      "execution_count": 16,
      "outputs": []
    },
    {
      "cell_type": "code",
      "source": [],
      "metadata": {
        "id": "szgc74345x0V"
      },
      "execution_count": null,
      "outputs": []
    },
    {
      "cell_type": "code",
      "source": [
        "class Animal(ABC):\n",
        "    @abstractmethod\n",
        "    def eat(self, food) -> float:\n",
        "        pass\n",
        "    @abstractmethod\n",
        "    def sleep(self, hours) -> float:\n",
        "        pass"
      ],
      "metadata": {
        "id": "kU5pVfeH5fmv"
      },
      "execution_count": 18,
      "outputs": []
    },
    {
      "cell_type": "code",
      "source": [
        "from typing import Protocol\n",
        "\n",
        "class Animal2(Protocol):\n",
        "   def eat(self, food) -> float:\n",
        "       ...\n",
        "   def sleep(self, hours) -> float:\n",
        "       ...\n",
        "\n",
        "class Giraffe:  # no base class needed!\n",
        "   def eat(self, food) -> str:\n",
        "       return \"0\" + food\n",
        "\n",
        "   def sleep(self, hours) -> float:\n",
        "       return 1.\n",
        "\n",
        "def feed_animal(animal: Animal2):\n",
        "    print(f\"{animal.eat('apple')} + {animal.sleep('4')} \")\n",
        "\n",
        "giraffe = Giraffe()\n",
        "feed_animal(giraffe)"
      ],
      "metadata": {
        "colab": {
          "base_uri": "https://localhost:8080/"
        },
        "id": "dDbEk3Nt5yWH",
        "outputId": "921aef30-565d-4e93-d5f3-b0cbc7f233ae"
      },
      "execution_count": 38,
      "outputs": [
        {
          "output_type": "stream",
          "name": "stdout",
          "text": [
            "0apple + 1.0 \n"
          ]
        }
      ]
    },
    {
      "cell_type": "code",
      "source": [],
      "metadata": {
        "id": "fJyx2dJA7A3R"
      },
      "execution_count": null,
      "outputs": []
    }
  ]
}