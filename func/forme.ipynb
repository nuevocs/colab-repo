{
  "nbformat": 4,
  "nbformat_minor": 0,
  "metadata": {
    "colab": {
      "provenance": [],
      "authorship_tag": "ABX9TyOSKXbh82Zw/MjhPMn/ZUnJ",
      "include_colab_link": true
    },
    "kernelspec": {
      "name": "python3",
      "display_name": "Python 3"
    },
    "language_info": {
      "name": "python"
    }
  },
  "cells": [
    {
      "cell_type": "markdown",
      "metadata": {
        "id": "view-in-github",
        "colab_type": "text"
      },
      "source": [
        "<a href=\"https://colab.research.google.com/github/nuevocs/colab-repo/blob/main/func/forme.ipynb\" target=\"_parent\"><img src=\"https://colab.research.google.com/assets/colab-badge.svg\" alt=\"Open In Colab\"/></a>"
      ]
    },
    {
      "cell_type": "code",
      "execution_count": null,
      "metadata": {
        "id": "cDmAOu7eU5Qj"
      },
      "outputs": [],
      "source": []
    },
    {
      "cell_type": "markdown",
      "source": [
        "# func with *args"
      ],
      "metadata": {
        "id": "BfKOOCeLVIPr"
      }
    },
    {
      "cell_type": "code",
      "source": [
        "def neko(*args):\n",
        "    print(args)\n",
        "\n",
        "neko(\"dora\")\n",
        "neko(\"dora\", \"kuro\")\n",
        "neko(\"dora\", \"kuro\", \"chibi\")"
      ],
      "metadata": {
        "colab": {
          "base_uri": "https://localhost:8080/"
        },
        "id": "8XlI7huOVKkU",
        "outputId": "b3d47b02-06dd-4eef-f149-fc9020e1dec9"
      },
      "execution_count": 1,
      "outputs": [
        {
          "output_type": "stream",
          "name": "stdout",
          "text": [
            "('dora',)\n",
            "('dora', 'kuro')\n",
            "('dora', 'kuro', 'chibi')\n"
          ]
        }
      ]
    },
    {
      "cell_type": "code",
      "source": [],
      "metadata": {
        "id": "bcVIOhMSVT8r"
      },
      "execution_count": null,
      "outputs": []
    },
    {
      "cell_type": "markdown",
      "source": [
        "# func with **kwargs"
      ],
      "metadata": {
        "id": "xX_WvCKWVYAK"
      }
    },
    {
      "cell_type": "code",
      "source": [
        "def neko(**kwargs):\n",
        "    print(kwargs)\n",
        "\n",
        "neko(name=\"dora\", age=3, weight=44)"
      ],
      "metadata": {
        "colab": {
          "base_uri": "https://localhost:8080/"
        },
        "id": "b4pmkcbaVZsl",
        "outputId": "860dbd63-1f04-4354-c344-0e61c23a945d"
      },
      "execution_count": 2,
      "outputs": [
        {
          "output_type": "stream",
          "name": "stdout",
          "text": [
            "{'name': 'dora', 'age': 3, 'weight': 44}\n"
          ]
        }
      ]
    },
    {
      "cell_type": "code",
      "source": [
        "def neko(*args, **kwargs):\n",
        "    print(f\"{args} - {kwargs}\")"
      ],
      "metadata": {
        "id": "yJSkksA2VgNP"
      },
      "execution_count": 3,
      "outputs": []
    },
    {
      "cell_type": "code",
      "source": [
        "neko(\"dora\", 22, sleep=True, eating=False)"
      ],
      "metadata": {
        "colab": {
          "base_uri": "https://localhost:8080/"
        },
        "id": "k4rZvsztVqwc",
        "outputId": "0d24d39c-9a09-4f6e-ed50-b45a145b833c"
      },
      "execution_count": 4,
      "outputs": [
        {
          "output_type": "stream",
          "name": "stdout",
          "text": [
            "('dora', 22) - {'sleep': True, 'eating': False}\n"
          ]
        }
      ]
    },
    {
      "cell_type": "code",
      "source": [],
      "metadata": {
        "id": "lYDbQbtAV0wG"
      },
      "execution_count": null,
      "outputs": []
    },
    {
      "cell_type": "markdown",
      "source": [
        "# func with generator"
      ],
      "metadata": {
        "id": "G8V4BEpPXSHS"
      }
    },
    {
      "cell_type": "code",
      "source": [
        "def gen_squares(start, stop):\n",
        "    for i in range(start, stop+1):\n",
        "        yield i**2\n",
        "\n",
        "for i in gen_squares(1, 5):\n",
        "    print(i)"
      ],
      "metadata": {
        "colab": {
          "base_uri": "https://localhost:8080/"
        },
        "id": "dDOVMh5nXUCT",
        "outputId": "44bedd03-379c-4a98-babe-409d90a16845"
      },
      "execution_count": 8,
      "outputs": [
        {
          "output_type": "stream",
          "name": "stdout",
          "text": [
            "1\n",
            "4\n",
            "9\n",
            "16\n",
            "25\n"
          ]
        }
      ]
    },
    {
      "cell_type": "code",
      "source": [],
      "metadata": {
        "id": "1SSYXzKJX3ft"
      },
      "execution_count": 8,
      "outputs": []
    },
    {
      "cell_type": "code",
      "source": [],
      "metadata": {
        "id": "BvHy32jyX4zy"
      },
      "execution_count": null,
      "outputs": []
    },
    {
      "cell_type": "markdown",
      "source": [
        "# decorator"
      ],
      "metadata": {
        "id": "7r5RHJ_FZWOh"
      }
    },
    {
      "cell_type": "code",
      "source": [
        "def add_question_mark(func):\n",
        "    def wrapper_function(*args, **kwargs):\n",
        "        return func(*args, **kwargs) + \"?\"\n",
        "    return wrapper_function"
      ],
      "metadata": {
        "id": "9yCmEkCbZYh3"
      },
      "execution_count": 9,
      "outputs": []
    },
    {
      "cell_type": "code",
      "source": [
        "@add_question_mark\n",
        "def greet(name):\n",
        "    return f\"hello {name}\""
      ],
      "metadata": {
        "id": "8HiMULQfZr5h"
      },
      "execution_count": 12,
      "outputs": []
    },
    {
      "cell_type": "code",
      "source": [
        "print(greet(\"neko\"))"
      ],
      "metadata": {
        "colab": {
          "base_uri": "https://localhost:8080/"
        },
        "id": "miptqyqvZ-bo",
        "outputId": "29d98f12-823b-465b-ed19-4f37695a3cb4"
      },
      "execution_count": 13,
      "outputs": [
        {
          "output_type": "stream",
          "name": "stdout",
          "text": [
            "hello neko?\n"
          ]
        }
      ]
    },
    {
      "cell_type": "code",
      "source": [
        "def add_symbol(symbol):\n",
        "    def decorator_function(your_function):\n",
        "        def wrapper(*args, **kwargs):\n",
        "            return your_function(*args, **kwargs) + symbol\n",
        "        return wrapper\n",
        "    return decorator_function\n",
        "\n",
        "@add_symbol('!')\n",
        "def greet(name):\n",
        "    return f'hello {name}'\n",
        "\n",
        "print(greet('tom'))    # hello tom!\n",
        "\n",
        "@add_symbol('??')\n",
        "def greet(name):\n",
        "    return f'hello {name}'\n",
        "\n",
        "print(greet('tom'))    # hello tom??\n"
      ],
      "metadata": {
        "colab": {
          "base_uri": "https://localhost:8080/"
        },
        "id": "hZc7Iy4xZ_mg",
        "outputId": "49e55b72-651e-4de5-de00-5a30df9a2fdc"
      },
      "execution_count": 14,
      "outputs": [
        {
          "output_type": "stream",
          "name": "stdout",
          "text": [
            "hello tom!\n",
            "hello tom??\n"
          ]
        }
      ]
    },
    {
      "cell_type": "code",
      "source": [],
      "metadata": {
        "id": "fp8gy5fRaPxf"
      },
      "execution_count": null,
      "outputs": []
    }
  ]
}