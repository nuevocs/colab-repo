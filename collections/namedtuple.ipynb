{
  "nbformat": 4,
  "nbformat_minor": 0,
  "metadata": {
    "colab": {
      "provenance": [],
      "authorship_tag": "ABX9TyMTCEWUr4N1p8YX71VjYtVK",
      "include_colab_link": true
    },
    "kernelspec": {
      "name": "python3",
      "display_name": "Python 3"
    },
    "language_info": {
      "name": "python"
    }
  },
  "cells": [
    {
      "cell_type": "markdown",
      "metadata": {
        "id": "view-in-github",
        "colab_type": "text"
      },
      "source": [
        "<a href=\"https://colab.research.google.com/github/nuevocs/colab-repo/blob/main/collections/namedtuple.ipynb\" target=\"_parent\"><img src=\"https://colab.research.google.com/assets/colab-badge.svg\" alt=\"Open In Colab\"/></a>"
      ]
    },
    {
      "cell_type": "markdown",
      "source": [
        "# Collections"
      ],
      "metadata": {
        "id": "Vu3HJKewpAml"
      }
    },
    {
      "cell_type": "code",
      "source": [
        "from collections import namedtuple, deque, ChainMap, Counter, OrderedDict, defaultdict, UserDict, UserList, UserString"
      ],
      "metadata": {
        "id": "a55ukj-srq6h"
      },
      "execution_count": 1,
      "outputs": []
    },
    {
      "cell_type": "code",
      "source": [
        "Loc = namedtuple(\"Loc\", [\"x\", \"y\"])"
      ],
      "metadata": {
        "id": "rQOi9DxHrzIk"
      },
      "execution_count": 2,
      "outputs": []
    },
    {
      "cell_type": "code",
      "source": [
        "l = Loc(2233.555, 8982.2)"
      ],
      "metadata": {
        "id": "H0L4SFSrr8y4"
      },
      "execution_count": 3,
      "outputs": []
    },
    {
      "cell_type": "code",
      "source": [
        "l[0] + l[1]"
      ],
      "metadata": {
        "colab": {
          "base_uri": "https://localhost:8080/"
        },
        "id": "J88pbXNVr_Za",
        "outputId": "7b55048e-813c-409c-db52-2c9aa63a77b8"
      },
      "execution_count": 5,
      "outputs": [
        {
          "output_type": "execute_result",
          "data": {
            "text/plain": [
              "11215.755000000001"
            ]
          },
          "metadata": {},
          "execution_count": 5
        }
      ]
    },
    {
      "cell_type": "code",
      "source": [
        "left, right = l\n",
        "left"
      ],
      "metadata": {
        "colab": {
          "base_uri": "https://localhost:8080/"
        },
        "id": "lhRRjhuEsDDW",
        "outputId": "b169621a-6ec5-4c85-a47b-fa8fe587ab83"
      },
      "execution_count": 8,
      "outputs": [
        {
          "output_type": "execute_result",
          "data": {
            "text/plain": [
              "2233.555"
            ]
          },
          "metadata": {},
          "execution_count": 8
        }
      ]
    },
    {
      "cell_type": "code",
      "source": [
        "l"
      ],
      "metadata": {
        "colab": {
          "base_uri": "https://localhost:8080/"
        },
        "id": "wJ8bfFk9sKro",
        "outputId": "4e1ed6ad-1225-41f0-83ad-cd9029990db7"
      },
      "execution_count": 9,
      "outputs": [
        {
          "output_type": "execute_result",
          "data": {
            "text/plain": [
              "Loc(x=2233.555, y=8982.2)"
            ]
          },
          "metadata": {},
          "execution_count": 9
        }
      ]
    },
    {
      "cell_type": "code",
      "source": [
        "PersonHealth = namedtuple(\"PersonHealth\", \"height, weight, age, fat\")"
      ],
      "metadata": {
        "id": "5f-gXMwgtJQs"
      },
      "execution_count": 16,
      "outputs": []
    },
    {
      "cell_type": "code",
      "source": [
        "lst = [\n",
        " [160, 40, 20, 0.2],\n",
        "[190, 80, 45, 0.1]\n",
        " ]"
      ],
      "metadata": {
        "id": "6m10UCNuvegg"
      },
      "execution_count": 45,
      "outputs": []
    },
    {
      "cell_type": "code",
      "source": [],
      "metadata": {
        "id": "QClUnQeYF5Jv"
      },
      "execution_count": 43,
      "outputs": []
    },
    {
      "cell_type": "code",
      "source": [
        "for a in map(PersonHealth._make, lst):\n",
        "    print(a)"
      ],
      "metadata": {
        "colab": {
          "base_uri": "https://localhost:8080/"
        },
        "id": "EEoRLIgfv6f3",
        "outputId": "6527e08a-37ca-4d1f-9584-83956958c1b0"
      },
      "execution_count": 47,
      "outputs": [
        {
          "output_type": "stream",
          "name": "stdout",
          "text": [
            "PersonHealth(height=160, weight=40, age=20, fat=0.2)\n",
            "PersonHealth(height=190, weight=80, age=45, fat=0.1)\n"
          ]
        }
      ]
    },
    {
      "cell_type": "code",
      "source": [
        "PersonHealth._make(lst)"
      ],
      "metadata": {
        "colab": {
          "base_uri": "https://localhost:8080/"
        },
        "id": "24o5l4YDwFhF",
        "outputId": "f795c479-bc71-465b-a6d4-ecebafa08a68"
      },
      "execution_count": 17,
      "outputs": [
        {
          "output_type": "execute_result",
          "data": {
            "text/plain": [
              "PersonHealth(height=160, weight=40, age=20, fat=0.2)"
            ]
          },
          "metadata": {},
          "execution_count": 17
        }
      ]
    },
    {
      "cell_type": "code",
      "source": [
        "p = PersonHealth._make(lst)"
      ],
      "metadata": {
        "id": "9Gy4mcUZwaqv"
      },
      "execution_count": 33,
      "outputs": []
    },
    {
      "cell_type": "code",
      "source": [
        "p"
      ],
      "metadata": {
        "colab": {
          "base_uri": "https://localhost:8080/"
        },
        "id": "Jh6usEv5Esjm",
        "outputId": "59c7a940-f962-4f44-d690-2cde7e93012c"
      },
      "execution_count": 34,
      "outputs": [
        {
          "output_type": "execute_result",
          "data": {
            "text/plain": [
              "PersonHealth(height=160, weight=40, age=20, fat=0.2)"
            ]
          },
          "metadata": {},
          "execution_count": 34
        }
      ]
    },
    {
      "cell_type": "code",
      "source": [
        "p._asdict()"
      ],
      "metadata": {
        "colab": {
          "base_uri": "https://localhost:8080/"
        },
        "id": "_Z-p_1nOEygY",
        "outputId": "09e42919-0e99-4ea8-df77-2b126fdbb7c5"
      },
      "execution_count": 35,
      "outputs": [
        {
          "output_type": "execute_result",
          "data": {
            "text/plain": [
              "{'height': 160, 'weight': 40, 'age': 20, 'fat': 0.2}"
            ]
          },
          "metadata": {},
          "execution_count": 35
        }
      ]
    },
    {
      "cell_type": "code",
      "source": [],
      "metadata": {
        "id": "hcfHpSclE_KF"
      },
      "execution_count": null,
      "outputs": []
    }
  ]
}