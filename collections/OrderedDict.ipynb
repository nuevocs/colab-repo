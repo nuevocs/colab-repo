{
  "nbformat": 4,
  "nbformat_minor": 0,
  "metadata": {
    "colab": {
      "provenance": [],
      "authorship_tag": "ABX9TyN0eX+8sWEFZHHbYf7fMjxQ",
      "include_colab_link": true
    },
    "kernelspec": {
      "name": "python3",
      "display_name": "Python 3"
    },
    "language_info": {
      "name": "python"
    }
  },
  "cells": [
    {
      "cell_type": "markdown",
      "metadata": {
        "id": "view-in-github",
        "colab_type": "text"
      },
      "source": [
        "<a href=\"https://colab.research.google.com/github/nuevocs/colab-repo/blob/main/collections/OrderedDict.ipynb\" target=\"_parent\"><img src=\"https://colab.research.google.com/assets/colab-badge.svg\" alt=\"Open In Colab\"/></a>"
      ]
    },
    {
      "cell_type": "code",
      "execution_count": 34,
      "metadata": {
        "id": "9MFnRZYCflSH"
      },
      "outputs": [],
      "source": [
        "from collections import OrderedDict"
      ]
    },
    {
      "cell_type": "markdown",
      "source": [
        "Ordered dictionaries are just like regular dictionaries but have some extra capabilities relating to ordering operations. They have become less important now that the built-in dict class gained the ability to remember insertion order (this new behavior became guaranteed in Python 3.7)."
      ],
      "metadata": {
        "id": "97otiS13fn_v"
      }
    },
    {
      "cell_type": "code",
      "source": [
        "d = OrderedDict.fromkeys(\"doranekomandayo\")"
      ],
      "metadata": {
        "id": "WparmzQ7fqmW"
      },
      "execution_count": 35,
      "outputs": []
    },
    {
      "cell_type": "code",
      "source": [
        "d"
      ],
      "metadata": {
        "colab": {
          "base_uri": "https://localhost:8080/"
        },
        "id": "HRmA0IWaiGu0",
        "outputId": "9ee95a7f-426a-4446-e418-d8a926d7db78"
      },
      "execution_count": 36,
      "outputs": [
        {
          "output_type": "execute_result",
          "data": {
            "text/plain": [
              "OrderedDict([('d', None),\n",
              "             ('o', None),\n",
              "             ('r', None),\n",
              "             ('a', None),\n",
              "             ('n', None),\n",
              "             ('e', None),\n",
              "             ('k', None),\n",
              "             ('m', None),\n",
              "             ('y', None)])"
            ]
          },
          "metadata": {},
          "execution_count": 36
        }
      ]
    },
    {
      "cell_type": "code",
      "source": [
        "class LastUpdatedOrderedDict(OrderedDict):\n",
        "    'Store items in the order the keys were last added'\n",
        "\n",
        "    def __setitem__(self, key, value):\n",
        "        super().__setitem__(key, value)\n",
        "        self.move_to_end(key)"
      ],
      "metadata": {
        "id": "2XQCiqvHiUP0"
      },
      "execution_count": 37,
      "outputs": []
    },
    {
      "cell_type": "code",
      "source": [
        "c = OrderedDict({'a': 3, 'b': 4})\n",
        "d = LastUpdatedOrderedDict(c)\n",
        "c[\"d\"] = 6  # __setitem__\n",
        "c[\"a\"] = 6\n",
        "c"
      ],
      "metadata": {
        "colab": {
          "base_uri": "https://localhost:8080/"
        },
        "id": "wBBIG_bOpiPB",
        "outputId": "0c0cd3a7-b6db-440e-c229-aec033df23f8"
      },
      "execution_count": 49,
      "outputs": [
        {
          "output_type": "execute_result",
          "data": {
            "text/plain": [
              "OrderedDict([('a', 6), ('b', 4), ('d', 6)])"
            ]
          },
          "metadata": {},
          "execution_count": 49
        }
      ]
    }
  ]
}