{
  "nbformat": 4,
  "nbformat_minor": 0,
  "metadata": {
    "colab": {
      "provenance": [],
      "authorship_tag": "ABX9TyPiQtHQbAxbpU166kZq0WXB",
      "include_colab_link": true
    },
    "kernelspec": {
      "name": "python3",
      "display_name": "Python 3"
    },
    "language_info": {
      "name": "python"
    }
  },
  "cells": [
    {
      "cell_type": "markdown",
      "metadata": {
        "id": "view-in-github",
        "colab_type": "text"
      },
      "source": [
        "<a href=\"https://colab.research.google.com/github/nuevocs/colab-repo/blob/main/collections/ChainMap.ipynb\" target=\"_parent\"><img src=\"https://colab.research.google.com/assets/colab-badge.svg\" alt=\"Open In Colab\"/></a>"
      ]
    },
    {
      "cell_type": "code",
      "execution_count": 1,
      "metadata": {
        "id": "9MFnRZYCflSH"
      },
      "outputs": [],
      "source": [
        "from collections import ChainMap"
      ]
    },
    {
      "cell_type": "markdown",
      "source": [
        "A ChainMap groups multiple dicts or other mappings together to create a single, updateable view. If no maps are specified, a single empty dictionary is provided so that a new chain always has at least one mapping."
      ],
      "metadata": {
        "id": "97otiS13fn_v"
      }
    },
    {
      "cell_type": "code",
      "source": [
        "a = {\"music\": \"bach\", \"art\": \"goch\"}\n",
        "b = {\"art\": \"neko\", \"opera\": \"carmen\"}\n",
        "c = {\"art\": \"neko\", \"kyogen\": \"carmen\"}\n",
        "list(ChainMap(a, b, c))"
      ],
      "metadata": {
        "colab": {
          "base_uri": "https://localhost:8080/"
        },
        "id": "WparmzQ7fqmW",
        "outputId": "1f4e0991-6368-4c76-cafb-9a4b585066ef"
      },
      "execution_count": 4,
      "outputs": [
        {
          "output_type": "execute_result",
          "data": {
            "text/plain": [
              "['art', 'kyogen', 'opera', 'music']"
            ]
          },
          "metadata": {},
          "execution_count": 4
        }
      ]
    },
    {
      "cell_type": "code",
      "source": [
        "combined = a.copy()\n",
        "combined.update(c)\n",
        "list(combined)"
      ],
      "metadata": {
        "colab": {
          "base_uri": "https://localhost:8080/"
        },
        "id": "HRmA0IWaiGu0",
        "outputId": "4574a704-0506-4096-e7e5-8147ba69b643"
      },
      "execution_count": 8,
      "outputs": [
        {
          "output_type": "execute_result",
          "data": {
            "text/plain": [
              "['music', 'art', 'kyogen']"
            ]
          },
          "metadata": {},
          "execution_count": 8
        }
      ]
    },
    {
      "cell_type": "code",
      "source": [],
      "metadata": {
        "id": "2XQCiqvHiUP0"
      },
      "execution_count": null,
      "outputs": []
    }
  ]
}