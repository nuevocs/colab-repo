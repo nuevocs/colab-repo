{
  "nbformat": 4,
  "nbformat_minor": 0,
  "metadata": {
    "colab": {
      "provenance": [],
      "authorship_tag": "ABX9TyOELuAX2g8/+mmX2J8aPgRo",
      "include_colab_link": true
    },
    "kernelspec": {
      "name": "python3",
      "display_name": "Python 3"
    },
    "language_info": {
      "name": "python"
    }
  },
  "cells": [
    {
      "cell_type": "markdown",
      "metadata": {
        "id": "view-in-github",
        "colab_type": "text"
      },
      "source": [
        "<a href=\"https://colab.research.google.com/github/nuevocs/colab-repo/blob/main/collections/collections_deque.ipynb\" target=\"_parent\"><img src=\"https://colab.research.google.com/assets/colab-badge.svg\" alt=\"Open In Colab\"/></a>"
      ]
    },
    {
      "cell_type": "code",
      "execution_count": 2,
      "metadata": {
        "id": "KT5r408iJBAa"
      },
      "outputs": [],
      "source": [
        "from collections import deque"
      ]
    },
    {
      "cell_type": "markdown",
      "source": [
        "list-like container with fast appends and pops on either end"
      ],
      "metadata": {
        "id": "sdv22UszJGPo"
      }
    },
    {
      "cell_type": "code",
      "source": [
        "d = deque(\"Doraneko Man\")\n",
        "d"
      ],
      "metadata": {
        "colab": {
          "base_uri": "https://localhost:8080/"
        },
        "id": "OiW3M2phcyAh",
        "outputId": "23290e12-301f-4b4a-d906-cb0ecc1b7944"
      },
      "execution_count": 7,
      "outputs": [
        {
          "output_type": "execute_result",
          "data": {
            "text/plain": [
              "deque(['D', 'o', 'r', 'a', 'n', 'e', 'k', 'o', ' ', 'M', 'a', 'n'])"
            ]
          },
          "metadata": {},
          "execution_count": 7
        }
      ]
    },
    {
      "cell_type": "code",
      "source": [
        "d.append(\"X\")"
      ],
      "metadata": {
        "id": "MSchQX5sc4Qg"
      },
      "execution_count": 8,
      "outputs": []
    },
    {
      "cell_type": "code",
      "source": [
        "d.appendleft(\"Y\")\n",
        "d"
      ],
      "metadata": {
        "colab": {
          "base_uri": "https://localhost:8080/"
        },
        "id": "oy1RKuwEc7T5",
        "outputId": "d63f0cc6-0795-4a63-c720-a459a937bbcc"
      },
      "execution_count": 9,
      "outputs": [
        {
          "output_type": "execute_result",
          "data": {
            "text/plain": [
              "deque(['Y', 'D', 'o', 'r', 'a', 'n', 'e', 'k', 'o', ' ', 'M', 'a', 'n', 'X'])"
            ]
          },
          "metadata": {},
          "execution_count": 9
        }
      ]
    },
    {
      "cell_type": "code",
      "source": [
        "# return and remove the rightmost item\n",
        "d.pop()"
      ],
      "metadata": {
        "colab": {
          "base_uri": "https://localhost:8080/",
          "height": 35
        },
        "id": "-BolNGnHc--9",
        "outputId": "8f701e21-bb6d-4d06-9a0f-36d5b87f688c"
      },
      "execution_count": 10,
      "outputs": [
        {
          "output_type": "execute_result",
          "data": {
            "text/plain": [
              "'X'"
            ],
            "application/vnd.google.colaboratory.intrinsic+json": {
              "type": "string"
            }
          },
          "metadata": {},
          "execution_count": 10
        }
      ]
    },
    {
      "cell_type": "code",
      "source": [
        "d.popleft()"
      ],
      "metadata": {
        "colab": {
          "base_uri": "https://localhost:8080/",
          "height": 35
        },
        "id": "fMKYFV8_dHMr",
        "outputId": "0d99a27d-a6d3-4380-8060-4e51cfafb9b3"
      },
      "execution_count": 12,
      "outputs": [
        {
          "output_type": "execute_result",
          "data": {
            "text/plain": [
              "'Y'"
            ],
            "application/vnd.google.colaboratory.intrinsic+json": {
              "type": "string"
            }
          },
          "metadata": {},
          "execution_count": 12
        }
      ]
    },
    {
      "cell_type": "code",
      "source": [
        "list(d)"
      ],
      "metadata": {
        "colab": {
          "base_uri": "https://localhost:8080/"
        },
        "id": "BqYC0ma8dH1n",
        "outputId": "8d3c57c2-437e-4824-88b3-aff36998bfeb"
      },
      "execution_count": 13,
      "outputs": [
        {
          "output_type": "execute_result",
          "data": {
            "text/plain": [
              "['D', 'o', 'r', 'a', 'n', 'e', 'k', 'o', ' ', 'M', 'a', 'n']"
            ]
          },
          "metadata": {},
          "execution_count": 13
        }
      ]
    },
    {
      "cell_type": "code",
      "source": [
        "d.extend(\"NEKO\")"
      ],
      "metadata": {
        "id": "gUfDYKqbdRqC"
      },
      "execution_count": 14,
      "outputs": []
    },
    {
      "cell_type": "code",
      "source": [
        "d"
      ],
      "metadata": {
        "colab": {
          "base_uri": "https://localhost:8080/"
        },
        "id": "fiw5wEFFdcAr",
        "outputId": "eff7f7dd-3ea1-40e9-a466-e3006fc7bb50"
      },
      "execution_count": 15,
      "outputs": [
        {
          "output_type": "execute_result",
          "data": {
            "text/plain": [
              "deque(['D',\n",
              "       'o',\n",
              "       'r',\n",
              "       'a',\n",
              "       'n',\n",
              "       'e',\n",
              "       'k',\n",
              "       'o',\n",
              "       ' ',\n",
              "       'M',\n",
              "       'a',\n",
              "       'n',\n",
              "       'N',\n",
              "       'E',\n",
              "       'K',\n",
              "       'O'])"
            ]
          },
          "metadata": {},
          "execution_count": 15
        }
      ]
    },
    {
      "cell_type": "code",
      "source": [
        "import itertools\n",
        "def moving_average(iterable, n=3):\n",
        "    # moving_average([40, 30, 50, 46, 39, 44]) --> 40.0 42.0 45.0 43.0\n",
        "    # https://en.wikipedia.org/wiki/Moving_average\n",
        "    it = iter(iterable)\n",
        "    d = deque(itertools.islice(it, n-1))\n",
        "    d.appendleft(0)\n",
        "    s = sum(d)\n",
        "    for elem in it:\n",
        "        s += elem - d.popleft()\n",
        "        d.append(elem)\n",
        "        yield s / n\n",
        ""
      ],
      "metadata": {
        "id": "0ru01zfxdcOF"
      },
      "execution_count": 33,
      "outputs": []
    },
    {
      "cell_type": "code",
      "source": [
        "d = moving_average([40, 30, 50, 46, 39, 44])"
      ],
      "metadata": {
        "id": "Gwg9csiNds9A"
      },
      "execution_count": 34,
      "outputs": []
    },
    {
      "cell_type": "code",
      "source": [
        "list(d)"
      ],
      "metadata": {
        "colab": {
          "base_uri": "https://localhost:8080/"
        },
        "id": "HpLKKYCrdyi-",
        "outputId": "9bcdf612-e4f7-44a0-a494-b1f0cc2ea2d5"
      },
      "execution_count": 35,
      "outputs": [
        {
          "output_type": "execute_result",
          "data": {
            "text/plain": [
              "[40.0, 42.0, 45.0, 43.0]"
            ]
          },
          "metadata": {},
          "execution_count": 35
        }
      ]
    },
    {
      "cell_type": "code",
      "source": [
        "def roundrobin(*iterables):\n",
        "    \"roundrobin('ABC', 'D', 'EF') --> A D E B F C\"\n",
        "    iterators = deque(map(iter, iterables))\n",
        "    while iterators:\n",
        "        try:\n",
        "            while True:\n",
        "                yield next(iterators[0])\n",
        "                iterators.rotate(-1)\n",
        "        except StopIteration:\n",
        "            # Remove an exhausted iterator.\n",
        "            iterators.popleft()"
      ],
      "metadata": {
        "id": "Gv8_VEYmek2A"
      },
      "execution_count": 36,
      "outputs": []
    },
    {
      "cell_type": "code",
      "source": [
        "list(roundrobin('ABC', 'D', 'EF'))"
      ],
      "metadata": {
        "colab": {
          "base_uri": "https://localhost:8080/"
        },
        "id": "rMjlix5pfCdx",
        "outputId": "2ed98c72-9831-4722-eba7-a7cd47f9f9ad"
      },
      "execution_count": 38,
      "outputs": [
        {
          "output_type": "execute_result",
          "data": {
            "text/plain": [
              "['A', 'D', 'E', 'B', 'F', 'C']"
            ]
          },
          "metadata": {},
          "execution_count": 38
        }
      ]
    },
    {
      "cell_type": "code",
      "source": [
        "list(roundrobin('dora', 'n', 'ko', 'man'))"
      ],
      "metadata": {
        "colab": {
          "base_uri": "https://localhost:8080/"
        },
        "id": "cSkd5yKsfD76",
        "outputId": "fc74843c-b730-4d2a-8f68-6dcbcdd831a7"
      },
      "execution_count": 39,
      "outputs": [
        {
          "output_type": "execute_result",
          "data": {
            "text/plain": [
              "['d', 'n', 'k', 'm', 'o', 'o', 'a', 'r', 'n', 'a']"
            ]
          },
          "metadata": {},
          "execution_count": 39
        }
      ]
    },
    {
      "cell_type": "code",
      "source": [],
      "metadata": {
        "id": "_b-UU1qVfLl_"
      },
      "execution_count": null,
      "outputs": []
    }
  ]
}