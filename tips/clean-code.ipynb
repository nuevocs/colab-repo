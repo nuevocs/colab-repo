{
  "nbformat": 4,
  "nbformat_minor": 0,
  "metadata": {
    "colab": {
      "provenance": [],
      "authorship_tag": "ABX9TyMcwEZEfo8EQZLcRujDyxh/",
      "include_colab_link": true
    },
    "kernelspec": {
      "name": "python3",
      "display_name": "Python 3"
    },
    "language_info": {
      "name": "python"
    }
  },
  "cells": [
    {
      "cell_type": "markdown",
      "metadata": {
        "id": "view-in-github",
        "colab_type": "text"
      },
      "source": [
        "<a href=\"https://colab.research.google.com/github/nuevocs/colab-repo/blob/main/tips/clean-code.ipynb\" target=\"_parent\"><img src=\"https://colab.research.google.com/assets/colab-badge.svg\" alt=\"Open In Colab\"/></a>"
      ]
    },
    {
      "cell_type": "code",
      "execution_count": 2,
      "metadata": {
        "colab": {
          "base_uri": "https://localhost:8080/",
          "height": 246
        },
        "id": "MSTb-EEyurel",
        "outputId": "fe12045c-9bb1-4569-e2ba-d21eef8ffe3d"
      },
      "outputs": [
        {
          "output_type": "error",
          "ename": "NameError",
          "evalue": "ignored",
          "traceback": [
            "\u001b[0;31m---------------------------------------------------------------------------\u001b[0m",
            "\u001b[0;31mNameError\u001b[0m                                 Traceback (most recent call last)",
            "\u001b[0;32m<ipython-input-2-e697715cad47>\u001b[0m in \u001b[0;36m<cell line: 10>\u001b[0;34m()\u001b[0m\n\u001b[1;32m      8\u001b[0m \"\"\"\n\u001b[1;32m      9\u001b[0m \u001b[0;34m\u001b[0m\u001b[0m\n\u001b[0;32m---> 10\u001b[0;31m \u001b[0;32mif\u001b[0m \u001b[0mcondition1\u001b[0m \u001b[0;32mand\u001b[0m \u001b[0mcondition2\u001b[0m \u001b[0;32mand\u001b[0m \u001b[0mcondition3\u001b[0m\u001b[0;34m:\u001b[0m\u001b[0;34m\u001b[0m\u001b[0;34m\u001b[0m\u001b[0m\n\u001b[0m\u001b[1;32m     11\u001b[0m     \u001b[0;31m# Perform some action\u001b[0m\u001b[0;34m\u001b[0m\u001b[0;34m\u001b[0m\u001b[0m\n\u001b[1;32m     12\u001b[0m     \u001b[0mprint\u001b[0m\u001b[0;34m(\u001b[0m\u001b[0;34m\"test\"\u001b[0m\u001b[0;34m)\u001b[0m\u001b[0;34m\u001b[0m\u001b[0;34m\u001b[0m\u001b[0m\n",
            "\u001b[0;31mNameError\u001b[0m: name 'condition1' is not defined"
          ]
        }
      ],
      "source": [
        "# nested code\n",
        "\n",
        "\"\"\"\n",
        "if condition1:\n",
        "    if condition2:\n",
        "        if condition3:\n",
        "            # Perform some action\n",
        "\"\"\"\n",
        "\n",
        "if condition1 and condition2 and condition3:\n",
        "    # Perform some action\n",
        "    print(\"test\")"
      ]
    },
    {
      "cell_type": "code",
      "source": [
        "# checking types\n",
        "\n",
        "\"\"\"\n",
        "if type(variable) == int:\n",
        "    # Do something\n",
        "\"\"\"\n",
        "if isinstance(variable, int):\n",
        "    # Do something"
      ],
      "metadata": {
        "colab": {
          "base_uri": "https://localhost:8080/",
          "height": 141
        },
        "id": "Pp7JbRXyu-_A",
        "outputId": "764f3037-1623-49f4-95d2-824ac8178067"
      },
      "execution_count": 3,
      "outputs": [
        {
          "output_type": "error",
          "ename": "SyntaxError",
          "evalue": "ignored",
          "traceback": [
            "\u001b[0;36m  File \u001b[0;32m\"<ipython-input-3-079157ecec06>\"\u001b[0;36m, line \u001b[0;32m8\u001b[0m\n\u001b[0;31m    # Do something\u001b[0m\n\u001b[0m                  ^\u001b[0m\n\u001b[0;31mSyntaxError\u001b[0m\u001b[0;31m:\u001b[0m incomplete input\n"
          ]
        }
      ]
    },
    {
      "cell_type": "code",
      "source": [
        "# using in for a set\n",
        "list_of_jobs = {\"Machine learning\", \"Data Science\", \"Developer\", \"CTO\", \"Writer\", \"Product Manager\"}\n",
        "found = \"CEO\" in list_of_jobs\n",
        "print(found)"
      ],
      "metadata": {
        "id": "m1pWTwdBvElL"
      },
      "execution_count": null,
      "outputs": []
    }
  ]
}