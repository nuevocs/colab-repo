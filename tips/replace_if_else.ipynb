{
  "nbformat": 4,
  "nbformat_minor": 0,
  "metadata": {
    "colab": {
      "provenance": [],
      "authorship_tag": "ABX9TyNtXOH5GRSLBSXkY+zZCZLq",
      "include_colab_link": true
    },
    "kernelspec": {
      "name": "python3",
      "display_name": "Python 3"
    },
    "language_info": {
      "name": "python"
    }
  },
  "cells": [
    {
      "cell_type": "markdown",
      "metadata": {
        "id": "view-in-github",
        "colab_type": "text"
      },
      "source": [
        "<a href=\"https://colab.research.google.com/github/nuevocs/colab-repo/blob/main/tips/replace_if_else.ipynb\" target=\"_parent\"><img src=\"https://colab.research.google.com/assets/colab-badge.svg\" alt=\"Open In Colab\"/></a>"
      ]
    },
    {
      "cell_type": "code",
      "execution_count": 3,
      "metadata": {
        "colab": {
          "base_uri": "https://localhost:8080/"
        },
        "id": "z1cHHrB7kqVH",
        "outputId": "a27ac886-4715-421a-bbd7-df7f9a881408"
      },
      "outputs": [
        {
          "output_type": "execute_result",
          "data": {
            "text/plain": [
              "False"
            ]
          },
          "metadata": {},
          "execution_count": 3
        }
      ],
      "source": [
        "# Unnecessary else\n",
        "\n",
        "def is_even(number):\n",
        "    if number % 2 == 0:\n",
        "        return True\n",
        "    return False\n",
        "\n",
        "is_even(3)"
      ]
    },
    {
      "cell_type": "code",
      "source": [],
      "metadata": {
        "id": "J7twAWhskz6R"
      },
      "execution_count": 4,
      "outputs": []
    },
    {
      "cell_type": "code",
      "source": [
        "# Value assignments\n",
        "# There is no need for the elif and else block.\n",
        "\n",
        "def classify_temperature(temperature):\n",
        "    if temperature >= 26:\n",
        "        return \"Hot\"\n",
        "    if temperature >= 15:\n",
        "        return \"Warm\"\n",
        "    return \"Cold\"\n",
        "\n",
        "classify_temperature(40)"
      ],
      "metadata": {
        "colab": {
          "base_uri": "https://localhost:8080/",
          "height": 35
        },
        "id": "V1HTTUacl8-9",
        "outputId": "75f3ba39-9053-4098-e1cd-25b36d717546"
      },
      "execution_count": 8,
      "outputs": [
        {
          "output_type": "execute_result",
          "data": {
            "text/plain": [
              "'Hot'"
            ],
            "application/vnd.google.colaboratory.intrinsic+json": {
              "type": "string"
            }
          },
          "metadata": {},
          "execution_count": 8
        }
      ]
    },
    {
      "cell_type": "code",
      "source": [
        "#3. Guard Clauses\n",
        "# Using guard clauses\n",
        "def validate_input(input_list):\n",
        "    if not isinstance(input_list, list):\n",
        "        raise TypeError(\"Input must be a list.\")\n",
        "    if not input_list:\n",
        "        raise ValueError(\"Input cannot be an empty list.\")\n",
        "    if not all(isinstance(item, float) for item in input_list):\n",
        "        raise ValueError(\"All items in the list must be floats.\")\n",
        "    return True\n",
        "validate_input([2.2,4.4])"
      ],
      "metadata": {
        "colab": {
          "base_uri": "https://localhost:8080/"
        },
        "id": "_mcPrWfwmEfM",
        "outputId": "0b998703-3406-46e3-9dd3-c0ce63e0cd33"
      },
      "execution_count": 14,
      "outputs": [
        {
          "output_type": "execute_result",
          "data": {
            "text/plain": [
              "True"
            ]
          },
          "metadata": {},
          "execution_count": 14
        }
      ]
    },
    {
      "cell_type": "code",
      "source": [
        "# Dictionary is used\n",
        "def determine_favorite_fruit_with_dict(color):\n",
        "    color_to_fruit = {\n",
        "        \"red\": \"Strawberry\",\n",
        "        \"yellow\": \"Banana\",\n",
        "        \"green\": \"Honeydew\",\n",
        "    }\n",
        "    return color_to_fruit.get(color, \"unknown\")\n",
        "determine_favorite_fruit_with_dict(\"red\")"
      ],
      "metadata": {
        "colab": {
          "base_uri": "https://localhost:8080/",
          "height": 35
        },
        "id": "wJOqxnPym5CA",
        "outputId": "5e578160-9c32-4307-ce3b-7221adee1549"
      },
      "execution_count": 18,
      "outputs": [
        {
          "output_type": "execute_result",
          "data": {
            "text/plain": [
              "'Strawberry'"
            ],
            "application/vnd.google.colaboratory.intrinsic+json": {
              "type": "string"
            }
          },
          "metadata": {},
          "execution_count": 18
        }
      ]
    },
    {
      "cell_type": "code",
      "source": [
        "# match\n",
        "def use_match(value):\n",
        "    match value:\n",
        "        case 1:\n",
        "            print(\"Value is 1\")\n",
        "        case 2:\n",
        "            print(\"Value is 2\")\n",
        "        case 3:\n",
        "            print(\"Value is 3\")\n",
        "        case _:\n",
        "            print(\"Value is something else\")\n",
        "use_match(2)"
      ],
      "metadata": {
        "colab": {
          "base_uri": "https://localhost:8080/"
        },
        "id": "s0X9sr-rnXyf",
        "outputId": "f0c66732-6b25-4681-89e9-a332c90ff7fc"
      },
      "execution_count": 21,
      "outputs": [
        {
          "output_type": "stream",
          "name": "stdout",
          "text": [
            "Value is 2\n"
          ]
        }
      ]
    },
    {
      "cell_type": "code",
      "source": [
        "# 6. Strategy Pattern\n",
        "\n",
        "from typing import Protocol\n",
        "\n",
        "\n",
        "# Define the abstract Strategy class\n",
        "class PaymentStrategy(Protocol):\n",
        "    def pay(self, amount):\n",
        "        pass\n",
        "\n",
        "\n",
        "# Define the concrete Strategy classes\n",
        "class CreditCardPayment(PaymentStrategy):\n",
        "    def pay(self, amount):\n",
        "        print(f\"Paying {amount} using credit card.\")\n",
        "\n",
        "\n",
        "class PayPalPayment(PaymentStrategy):\n",
        "    def pay(self, amount):\n",
        "        print(f\"Paying {amount} using PayPal.\")\n",
        "\n",
        "\n",
        "class StripePayment(PaymentStrategy):\n",
        "    def pay(self, amount):\n",
        "        print(f\"Paying {amount} using Stripe.\")\n",
        "\n",
        "\n",
        "# Define the Context class that will use the Strategy pattern\n",
        "class PaymentContext:\n",
        "    def __init__(self, payment_strategy: PaymentStrategy):\n",
        "        self.payment_strategy = payment_strategy\n",
        "\n",
        "    def set_payment_strategy(self, payment_strategy: PaymentStrategy):\n",
        "        self.payment_strategy = payment_strategy\n",
        "\n",
        "    def pay(self, amount):\n",
        "        self.payment_strategy.pay(amount)\n",
        "\n",
        "\n",
        "# Example usage\n",
        "payment_context = PaymentContext(CreditCardPayment())\n",
        "payment_context.pay(100)  # Output: Paying 100 using credit card.\n",
        "\n",
        "payment_context.set_payment_strategy(PayPalPayment())\n",
        "payment_context.pay(50)  # Output: Paying 50 using PayPal.\n",
        "\n",
        "payment_context.set_payment_strategy(StripePayment())\n",
        "payment_context.pay(150)  # Output: Paying 150 using Stripe."
      ],
      "metadata": {
        "colab": {
          "base_uri": "https://localhost:8080/"
        },
        "id": "P9fJ6-4-oyhf",
        "outputId": "47c6d243-5747-4161-c4c5-ef483617e211"
      },
      "execution_count": 23,
      "outputs": [
        {
          "output_type": "stream",
          "name": "stdout",
          "text": [
            "Paying 100 using credit card.\n",
            "Paying 50 using PayPal.\n",
            "Paying 150 using Stripe.\n"
          ]
        }
      ]
    },
    {
      "cell_type": "code",
      "source": [],
      "metadata": {
        "id": "dfgtwPD1pArE"
      },
      "execution_count": null,
      "outputs": []
    }
  ]
}