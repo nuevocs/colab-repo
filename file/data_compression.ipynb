{
  "nbformat": 4,
  "nbformat_minor": 0,
  "metadata": {
    "colab": {
      "provenance": [],
      "authorship_tag": "ABX9TyPOR35Lhhd5ZieiZ/sP79dP",
      "include_colab_link": true
    },
    "kernelspec": {
      "name": "python3",
      "display_name": "Python 3"
    },
    "language_info": {
      "name": "python"
    }
  },
  "cells": [
    {
      "cell_type": "markdown",
      "metadata": {
        "id": "view-in-github",
        "colab_type": "text"
      },
      "source": [
        "<a href=\"https://colab.research.google.com/github/nuevocs/colab-repo/blob/main/file/data_compression.ipynb\" target=\"_parent\"><img src=\"https://colab.research.google.com/assets/colab-badge.svg\" alt=\"Open In Colab\"/></a>"
      ]
    },
    {
      "cell_type": "code",
      "execution_count": 1,
      "metadata": {
        "id": "F4kJUSfsSc3s"
      },
      "outputs": [],
      "source": [
        "# loading libraries\n",
        "import time\n",
        "import lzma\n",
        "import gzip\n",
        "import bz2"
      ]
    },
    {
      "cell_type": "code",
      "source": [
        "# declaring a data to compress\n",
        "\n",
        "data = b'This is Sample DATA' * 99000\n",
        "print(f\"Original data size {len(data)}\")"
      ],
      "metadata": {
        "colab": {
          "base_uri": "https://localhost:8080/"
        },
        "id": "nihcHfhqShFp",
        "outputId": "6781a82e-0345-4d9f-96bb-d6bd18e0d8f5"
      },
      "execution_count": 2,
      "outputs": [
        {
          "output_type": "stream",
          "name": "stdout",
          "text": [
            "Original data size 1881000\n"
          ]
        }
      ]
    },
    {
      "cell_type": "code",
      "source": [
        "start_time = time.time()\n",
        "\n",
        "compressed_data_lzma = lzma.compress(data)\n",
        "\n",
        "end_time = time.time()"
      ],
      "metadata": {
        "id": "04SBCDfPStFA"
      },
      "execution_count": 3,
      "outputs": []
    },
    {
      "cell_type": "code",
      "source": [
        "print(end_time - start_time)\n",
        "print(len(compressed_data_lzma))"
      ],
      "metadata": {
        "colab": {
          "base_uri": "https://localhost:8080/"
        },
        "id": "GvI3xAkNSzU_",
        "outputId": "81c5f57c-075c-463e-bba9-5fc66f8fc0d2"
      },
      "execution_count": 4,
      "outputs": [
        {
          "output_type": "stream",
          "name": "stdout",
          "text": [
            "0.0652768611907959\n",
            "420\n"
          ]
        }
      ]
    },
    {
      "cell_type": "code",
      "source": [
        "compressed_pct =  len(compressed_data_lzma) / len(data) * 100\n",
        "print(compressed_pct)"
      ],
      "metadata": {
        "colab": {
          "base_uri": "https://localhost:8080/"
        },
        "id": "UAKYDKpES5oG",
        "outputId": "d322bb03-8622-4413-e1c8-d4785ccea50a"
      },
      "execution_count": 10,
      "outputs": [
        {
          "output_type": "stream",
          "name": "stdout",
          "text": [
            "0.022328548644338118\n"
          ]
        }
      ]
    },
    {
      "cell_type": "code",
      "source": [],
      "metadata": {
        "id": "6vSkW509TAmI"
      },
      "execution_count": null,
      "outputs": []
    }
  ]
}