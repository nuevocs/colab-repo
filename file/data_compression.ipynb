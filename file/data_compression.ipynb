{
  "nbformat": 4,
  "nbformat_minor": 0,
  "metadata": {
    "colab": {
      "provenance": [],
      "authorship_tag": "ABX9TyP015i36u1mV/kXbpmjwZHD",
      "include_colab_link": true
    },
    "kernelspec": {
      "name": "python3",
      "display_name": "Python 3"
    },
    "language_info": {
      "name": "python"
    }
  },
  "cells": [
    {
      "cell_type": "markdown",
      "metadata": {
        "id": "view-in-github",
        "colab_type": "text"
      },
      "source": [
        "<a href=\"https://colab.research.google.com/github/nuevocs/colab-repo/blob/main/file/data_compression.ipynb\" target=\"_parent\"><img src=\"https://colab.research.google.com/assets/colab-badge.svg\" alt=\"Open In Colab\"/></a>"
      ]
    },
    {
      "cell_type": "code",
      "execution_count": 66,
      "metadata": {
        "id": "F4kJUSfsSc3s"
      },
      "outputs": [],
      "source": [
        "# loading libraries\n",
        "import time\n",
        "import lzma\n",
        "import gzip\n",
        "import bz2"
      ]
    },
    {
      "cell_type": "code",
      "source": [
        "# declaring a data to compress\n",
        "\n",
        "data = b'This is Sample DATA' * 99000\n",
        "print(f\"Original data size {len(data)}\")"
      ],
      "metadata": {
        "colab": {
          "base_uri": "https://localhost:8080/"
        },
        "id": "nihcHfhqShFp",
        "outputId": "6781a82e-0345-4d9f-96bb-d6bd18e0d8f5"
      },
      "execution_count": 2,
      "outputs": [
        {
          "output_type": "stream",
          "name": "stdout",
          "text": [
            "Original data size 1881000\n"
          ]
        }
      ]
    },
    {
      "cell_type": "code",
      "source": [
        "type(data)"
      ],
      "metadata": {
        "colab": {
          "base_uri": "https://localhost:8080/"
        },
        "id": "8bX_tZnhIWnu",
        "outputId": "f20e4b7f-1ef6-4700-8978-fa60aac929f3"
      },
      "execution_count": 72,
      "outputs": [
        {
          "output_type": "execute_result",
          "data": {
            "text/plain": [
              "bytes"
            ]
          },
          "metadata": {},
          "execution_count": 72
        }
      ]
    },
    {
      "cell_type": "code",
      "source": [
        "start_time = time.time()\n",
        "\n",
        "compressed_data_lzma = lzma.compress(data)\n",
        "\n",
        "end_time = time.time()"
      ],
      "metadata": {
        "id": "04SBCDfPStFA"
      },
      "execution_count": 3,
      "outputs": []
    },
    {
      "cell_type": "code",
      "source": [
        "print(end_time - start_time)\n",
        "print(len(compressed_data_lzma))"
      ],
      "metadata": {
        "colab": {
          "base_uri": "https://localhost:8080/"
        },
        "id": "GvI3xAkNSzU_",
        "outputId": "81c5f57c-075c-463e-bba9-5fc66f8fc0d2"
      },
      "execution_count": 4,
      "outputs": [
        {
          "output_type": "stream",
          "name": "stdout",
          "text": [
            "0.0652768611907959\n",
            "420\n"
          ]
        }
      ]
    },
    {
      "cell_type": "code",
      "source": [
        "compressed_pct =  len(compressed_data_lzma) / len(data) * 100\n",
        "print(compressed_pct)"
      ],
      "metadata": {
        "colab": {
          "base_uri": "https://localhost:8080/"
        },
        "id": "UAKYDKpES5oG",
        "outputId": "d322bb03-8622-4413-e1c8-d4785ccea50a"
      },
      "execution_count": 10,
      "outputs": [
        {
          "output_type": "stream",
          "name": "stdout",
          "text": [
            "0.022328548644338118\n"
          ]
        }
      ]
    },
    {
      "cell_type": "code",
      "source": [
        "# de-compress\n",
        "decon = lzma.decompress(compressed_data_lzma)\n",
        "check_eq = len(data) == len(decon)\n",
        "print(check_eq)"
      ],
      "metadata": {
        "colab": {
          "base_uri": "https://localhost:8080/"
        },
        "id": "6vSkW509TAmI",
        "outputId": "45b58560-a9b6-490f-954c-4feb93089744"
      },
      "execution_count": 16,
      "outputs": [
        {
          "output_type": "stream",
          "name": "stdout",
          "text": [
            "True\n"
          ]
        }
      ]
    },
    {
      "cell_type": "code",
      "source": [
        "from dataclasses import dataclass\n",
        "\n",
        "@dataclass\n",
        "class CompressionFile:\n",
        "    original_size: int\n",
        "    compressed_size: int\n",
        "    compressed_time: float\n",
        "    compressed_pct: float\n"
      ],
      "metadata": {
        "id": "OsTxvBB5tklp"
      },
      "execution_count": 41,
      "outputs": []
    },
    {
      "cell_type": "code",
      "source": [
        "def compression_comaprison(\n",
        "    original_data: bytes,\n",
        "    compress_algorithm: str\n",
        ") -> CompressionFile:\n",
        "    start_time = time.time()\n",
        "\n",
        "    match compress_algorithm:\n",
        "        case \"lzma\":\n",
        "            compressed_data = lzma.compress(original_data)\n",
        "            pass\n",
        "        case \"gzip\":\n",
        "            compressed_data = gzip.compress(original_data)\n",
        "            pass\n",
        "        case \"bz2\":\n",
        "            compressed_data = bz2.compress(original_data)\n",
        "            pass\n",
        "        case _:\n",
        "            raise ValueError\n",
        "    end_time = time.time()\n",
        "\n",
        "    compressed = CompressionFile(\n",
        "        original_size=len(original_data),\n",
        "        compressed_size=len(compressed_data),\n",
        "        compressed_time=float(end_time - start_time),\n",
        "        compressed_pct=len(compressed_data) / len(original_data) * 100\n",
        "    )\n",
        "    return compressed\n"
      ],
      "metadata": {
        "id": "ZXJgYRF4lece"
      },
      "execution_count": 71,
      "outputs": []
    },
    {
      "cell_type": "code",
      "source": [
        "compression_comaprison(data, \"lzma\")"
      ],
      "metadata": {
        "colab": {
          "base_uri": "https://localhost:8080/"
        },
        "id": "4-3eP1i0ml2B",
        "outputId": "72f4fec0-22b1-4365-f41c-a3399dd9f8aa"
      },
      "execution_count": 70,
      "outputs": [
        {
          "output_type": "execute_result",
          "data": {
            "text/plain": [
              "CompressionFile(original_size=1881000, compressed_size=420, compressed_time=0.1038670539855957, compressed_pct=0.022328548644338118)"
            ]
          },
          "metadata": {},
          "execution_count": 70
        }
      ]
    },
    {
      "cell_type": "code",
      "source": [
        "def saving_compressed_file(\n",
        "    original_data: bytes,\n",
        "    compress_algorithm: str,\n",
        "    output_path: str\n",
        "    ) -> None:\n",
        "    match compress_algorithm:\n",
        "        case \"lzma\":\n",
        "            compressed_data = lzma.compress(original_data)\n",
        "            pass\n",
        "        case \"gzip\":\n",
        "            compressed_data = gzip.compress(original_data)\n",
        "            pass\n",
        "        case \"bz2\":\n",
        "            compressed_data = bz2.compress(original_data)\n",
        "            pass\n",
        "        case _:\n",
        "            raise ValueError\n",
        "    with open(output_path, 'wb') as f:\n",
        "        f.write(data)"
      ],
      "metadata": {
        "id": "O_5IlBqZmy-P"
      },
      "execution_count": 47,
      "outputs": []
    },
    {
      "cell_type": "code",
      "source": [
        "saving_compressed_file(\n",
        "    data,\n",
        "    \"gzip\",\n",
        "    \"file.gzip\"\n",
        ")"
      ],
      "metadata": {
        "id": "XiXQ8-cVthv_"
      },
      "execution_count": 48,
      "outputs": []
    },
    {
      "cell_type": "code",
      "source": [
        "import requests\n",
        "import json\n",
        "\n",
        "r = requests.get(\"https://storage.googleapis.com/zenn-user-upload/baf7832b7c3c-20230729.png\")\n",
        "parsed = r.content\n",
        "with open(\"test.png\", \"wb\") as f:\n",
        "    f.write(parsed)"
      ],
      "metadata": {
        "id": "saEypp5F1KA7"
      },
      "execution_count": 57,
      "outputs": []
    },
    {
      "cell_type": "code",
      "source": [
        "saving_compressed_file(\n",
        "    parsed,\n",
        "    \"lzma\",\n",
        "    \"file.lzma\"\n",
        ")"
      ],
      "metadata": {
        "id": "oE6ETwab2DFj"
      },
      "execution_count": 55,
      "outputs": []
    },
    {
      "cell_type": "code",
      "source": [
        "len(parsed)\n",
        "print(type(parsed))"
      ],
      "metadata": {
        "colab": {
          "base_uri": "https://localhost:8080/"
        },
        "id": "R2MOm-CeGvDv",
        "outputId": "893e611b-2505-4549-fb0e-8d30efec1ca9"
      },
      "execution_count": 74,
      "outputs": [
        {
          "output_type": "stream",
          "name": "stdout",
          "text": [
            "<class 'bytes'>\n"
          ]
        }
      ]
    },
    {
      "cell_type": "code",
      "source": [
        "compression_comaprison(parsed, \"lzma\")"
      ],
      "metadata": {
        "colab": {
          "base_uri": "https://localhost:8080/"
        },
        "id": "KSyWBlbZ1-aS",
        "outputId": "a923a51d-068b-48f4-fcd7-5b998dfe64d6"
      },
      "execution_count": 73,
      "outputs": [
        {
          "output_type": "execute_result",
          "data": {
            "text/plain": [
              "CompressionFile(original_size=10287, compressed_size=9840, compressed_time=0.007701873779296875, compressed_pct=95.65470982793818)"
            ]
          },
          "metadata": {},
          "execution_count": 73
        }
      ]
    },
    {
      "cell_type": "code",
      "source": [
        "def comparison_compressed(\n",
        "    sample_a: CompressionFile,\n",
        "    sample_b: CompressionFile\n",
        "    ) -> None:\n",
        "        time_diff = sample_a.compressed_time - sample_b.compressed_time\n",
        "        data_diff = sample_a.compressed_size - sample_b.compressed_size\n",
        "\n",
        "        print(f\"Compression Time - Sample A - Sample B: {time_diff}\")\n",
        "        print(f\"Compression Size - Sample A - Sample B: {data_diff}\")\n"
      ],
      "metadata": {
        "id": "fKwN62NoHKfu"
      },
      "execution_count": 76,
      "outputs": []
    },
    {
      "cell_type": "code",
      "source": [
        "comparison_compressed(\n",
        "    sample_a=compression_comaprison(data, \"lzma\"),\n",
        "    sample_b=compression_comaprison(data, \"gzip\")\n",
        ")"
      ],
      "metadata": {
        "colab": {
          "base_uri": "https://localhost:8080/"
        },
        "id": "JmFXG4WwI0Jo",
        "outputId": "bce035fe-eff1-462a-f389-e36130ea3f9f"
      },
      "execution_count": 81,
      "outputs": [
        {
          "output_type": "stream",
          "name": "stdout",
          "text": [
            "Compression Time - Sample A - Sample B: 0.0227968692779541\n",
            "Compression Size - Sample A - Sample B: -4197\n"
          ]
        }
      ]
    },
    {
      "cell_type": "code",
      "source": [],
      "metadata": {
        "id": "guzXQQ38JdOU"
      },
      "execution_count": null,
      "outputs": []
    }
  ]
}